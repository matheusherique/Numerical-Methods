{
 "cells": [
  {
   "cell_type": "code",
   "execution_count": 1,
   "metadata": {},
   "outputs": [],
   "source": [
    "import cv2\n",
    "import numpy\n",
    "import glob\n",
    "import os\n",
    "import numpy\n",
    "import collections"
   ]
  },
  {
   "cell_type": "code",
   "execution_count": 2,
   "metadata": {
    "collapsed": true
   },
   "outputs": [],
   "source": [
    "%matplotlib inline\n",
    "import matplotlib.pyplot as plt\n",
    "import matplotlib.cm     as cm"
   ]
  },
  {
   "cell_type": "code",
   "execution_count": 3,
   "metadata": {
    "collapsed": true
   },
   "outputs": [],
   "source": [
    "import skimage.measure\n",
    "import skimage.color"
   ]
  },
  {
   "cell_type": "code",
   "execution_count": 4,
   "metadata": {
    "collapsed": true
   },
   "outputs": [],
   "source": [
    "files = sorted(glob.glob('images/captcha[1-6].png'))"
   ]
  },
  {
   "cell_type": "markdown",
   "metadata": {},
   "source": [
    "### Testa threshold"
   ]
  },
  {
   "cell_type": "code",
   "execution_count": 5,
   "metadata": {},
   "outputs": [
    {
     "name": "stdout",
     "output_type": "stream",
     "text": [
      "136.0\n",
      "136.0\n",
      "136.0\n",
      "136.0\n",
      "136.0\n"
     ]
    }
   ],
   "source": [
    "sufixes = {\n",
    "    cv2.THRESH_BINARY: 'binary',\n",
    "    cv2.THRESH_BINARY_INV: 'binary_inv',\n",
    "    cv2.THRESH_TRUNC: 'trunc',\n",
    "    cv2.THRESH_TOZERO: 'tozero',\n",
    "    cv2.THRESH_TOZERO_INV: 'tozero_inv'\n",
    "}\n",
    "\n",
    "# le a imagem\n",
    "image = cv2.imread('images/captcha1.png')\n",
    "\n",
    "# transforma ela de colorida (RGB) para tons de cinza\n",
    "gray = cv2.cvtColor(image, cv2.COLOR_RGB2GRAY)\n",
    "\n",
    "\n",
    "# aplica o thresholding\n",
    "for thresh in [cv2.THRESH_BINARY, cv2.THRESH_BINARY_INV, cv2.THRESH_TRUNC, cv2.THRESH_TOZERO, cv2.THRESH_TOZERO_INV]:\n",
    "    # o segundo parametro, 127, é ignorado\n",
    "    (limiar, bw) = cv2.threshold(gray, 127, 255, thresh | cv2.THRESH_OTSU)\n",
    "    cv2.imwrite('bw_captcha_' + sufixes[thresh] + '.png', bw)\n",
    "    print limiar"
   ]
  },
  {
   "cell_type": "markdown",
   "metadata": {},
   "source": [
    "### Histograma de tons de cinza"
   ]
  },
  {
   "cell_type": "code",
   "execution_count": 6,
   "metadata": {
    "collapsed": true
   },
   "outputs": [],
   "source": [
    "img  = cv2.imread('images/captcha6.png')\n",
    "gray = cv2.cvtColor(img, cv2.COLOR_RGB2GRAY)\n",
    "\n",
    "hist, bins = numpy.histogram(gray, gray.max() - gray.min() + 1)"
   ]
  },
  {
   "cell_type": "code",
   "execution_count": 7,
   "metadata": {},
   "outputs": [
    {
     "data": {
      "image/png": "[encoded data removed]",
      "text/plain": [
       "<matplotlib.figure.Figure at 0x7eaee10>"
      ]
     },
     "metadata": {},
     "output_type": "display_data"
    }
   ],
   "source": [
    "plt.bar(bins[:-1], hist, width = 1)\n",
    "plt.xlim(min(bins), max(bins))\n",
    "plt.figaspect(0.5)\n",
    "plt.show()"
   ]
  },
  {
   "cell_type": "markdown",
   "metadata": {},
   "source": [
    "### Binariza com OTSU"
   ]
  },
  {
   "cell_type": "code",
   "execution_count": 8,
   "metadata": {},
   "outputs": [],
   "source": [
    "def binarize(file):\n",
    "    image = cv2.imread(file)\n",
    "\n",
    "    # transforma ela de colorida (RGB) para tons de cinza\n",
    "    gray = cv2.cvtColor(image, cv2.COLOR_RGB2GRAY)\n",
    "\n",
    "    (_, bw) = cv2.threshold(gray, 127, 255, cv2.THRESH_BINARY | cv2.THRESH_OTSU)\n",
    "    return bw"
   ]
  },
  {
   "cell_type": "code",
   "execution_count": 9,
   "metadata": {},
   "outputs": [],
   "source": [
    "for file in files:\n",
    "    base = os.path.basename(file)\n",
    "    \n",
    "    bw   = binarize(file)\n",
    "    cv2.imwrite(base.replace('captcha', 'bw_captcha'), bw)"
   ]
  },
  {
   "cell_type": "markdown",
   "metadata": {},
   "source": [
    "### Recorta o que nao tem importancia"
   ]
  },
  {
   "cell_type": "code",
   "execution_count": 10,
   "metadata": {},
   "outputs": [],
   "source": [
    "for file in files:\n",
    "    base = os.path.basename(file)\n",
    "    \n",
    "    bw   = binarize(file)\n",
    "    bw   = bw[:, 30:180]\n",
    "    cv2.imwrite(base.replace('captcha', 'bw_captcha').replace('.png', '_crop.png'), bw)"
   ]
  },
  {
   "cell_type": "markdown",
   "metadata": {},
   "source": [
    "### Recorta antes de passar a binarizacao"
   ]
  },
  {
   "cell_type": "code",
   "execution_count": 11,
   "metadata": {
    "collapsed": true
   },
   "outputs": [],
   "source": [
    "def cut_and_binarize(file):\n",
    "    image = cv2.imread(file)\n",
    "\n",
    "    # transforma ela de colorida (RGB) para tons de cinza\n",
    "    gray = cv2.cvtColor(image, cv2.COLOR_RGB2GRAY)\n",
    "    gray = gray[:, 30:180]\n",
    "\n",
    "    (_, bw) = cv2.threshold(gray, 127, 255, cv2.THRESH_BINARY | cv2.THRESH_OTSU)\n",
    "    return bw"
   ]
  },
  {
   "cell_type": "code",
   "execution_count": 12,
   "metadata": {},
   "outputs": [],
   "source": [
    "for file in files:\n",
    "    base = os.path.basename(file)\n",
    "    \n",
    "    bw   = cut_and_binarize(file)\n",
    "    cv2.imwrite(base.replace('captcha', 'bw_captcha').replace('.png', '_crop2.png'), bw)"
   ]
  },
  {
   "cell_type": "markdown",
   "metadata": {},
   "source": [
    "### Segmentacao - Labels"
   ]
  },
  {
   "cell_type": "code",
   "execution_count": 13,
   "metadata": {
    "collapsed": true
   },
   "outputs": [],
   "source": [
    "def labelize(file):\n",
    "    bw = cut_and_binarize(file)\n",
    "    \n",
    "    (labels, total) = skimage.measure.label(bw, background=0, return_num=True, connectivity=2)\n",
    "    images = [numpy.uint8(labels==i) * 255 for i in range(total) if numpy.uint8(labels==i).sum() > 25]\n",
    "    \n",
    "    img = skimage.color.label2rgb(labels, bg_color=[1, 1, 1])\n",
    "    \n",
    "    for label in images:\n",
    "        (countours, _) = cv2.findContours(label.copy(), cv2.RETR_TREE, cv2.CHAIN_APPROX_SIMPLE)\n",
    "        (x,y,w,h)  = cv2.boundingRect(countours[0])\n",
    "    \n",
    "        cv2.rectangle(img, (x, y), (x+w, y+h), (1, 0, 0), 1)\n",
    "        \n",
    "    img2 = img * 255.0\n",
    "    return img2.astype(numpy.uint8)"
   ]
  },
  {
   "cell_type": "code",
   "execution_count": 14,
   "metadata": {},
   "outputs": [],
   "source": [
    "for file in files:\n",
    "    base = os.path.basename(file)\n",
    "    \n",
    "    bw   = labelize(file)\n",
    "    cv2.imwrite(base.replace('captcha', 'bw_captcha').replace('.png', '_label.png'), bw)"
   ]
  },
  {
   "cell_type": "markdown",
   "metadata": {},
   "source": [
    "### Limpeza"
   ]
  },
  {
   "cell_type": "code",
   "execution_count": 15,
   "metadata": {
    "collapsed": true
   },
   "outputs": [],
   "source": [
    "def cleanup(file):\n",
    "    bw = cut_and_binarize(file)\n",
    "    \n",
    "    (labels, total) = skimage.measure.label(bw, background=0, return_num=True, connectivity=2)\n",
    "    images = [numpy.uint8(labels==i) * 255 for i in range(total) if numpy.uint8(labels==i).sum() > 25]\n",
    "    \n",
    "    cleaned = numpy.zeros(bw.shape, numpy.uint8)\n",
    "    \n",
    "    # junta todos os labels reconhecidos\n",
    "    for label in images:\n",
    "        cleaned = cleaned + label\n",
    "        \n",
    "    cleaned = cv2.cvtColor(cleaned, cv2.COLOR_GRAY2RGB)\n",
    "    \n",
    "    # pinta o retangulo neles\n",
    "    for label in images:\n",
    "        (countours, _) = cv2.findContours(label.copy(), cv2.RETR_TREE, cv2.CHAIN_APPROX_SIMPLE)\n",
    "        (x,y,w,h)      = cv2.boundingRect(countours[0])\n",
    "    \n",
    "        cv2.rectangle(cleaned, (x, y), (x+w, y+h), (255, 0, 0), 1)\n",
    "    \n",
    "    return cleaned"
   ]
  },
  {
   "cell_type": "code",
   "execution_count": 16,
   "metadata": {},
   "outputs": [],
   "source": [
    "for file in files:\n",
    "    base = os.path.basename(file)\n",
    "    \n",
    "    bw   = cleanup(file)\n",
    "    cv2.imwrite(base.replace('captcha', 'bw_captcha').replace('.png', '_cleaned.png'), bw)"
   ]
  },
  {
   "cell_type": "markdown",
   "metadata": {
    "collapsed": true
   },
   "source": [
    "### Recorte das mil imagens"
   ]
  },
  {
   "cell_type": "code",
   "execution_count": 17,
   "metadata": {
    "collapsed": true
   },
   "outputs": [],
   "source": [
    "def simple_cleanup(file):\n",
    "    bw = cut_and_binarize(file)\n",
    "    \n",
    "    (labels, total) = skimage.measure.label(bw, background=0, return_num=True, connectivity=2)\n",
    "    images = [numpy.uint8(labels==i) * 255 for i in range(total) if numpy.uint8(labels==i).sum() > 25]\n",
    "    \n",
    "    cropped = []\n",
    "    dimensions   = []\n",
    "    \n",
    "    for label in images:\n",
    "        (countours, _) = cv2.findContours(label.copy(), cv2.RETR_TREE, cv2.CHAIN_APPROX_SIMPLE)\n",
    "        (x,y,w,h)      = cv2.boundingRect(countours[0])\n",
    "    \n",
    "        surface = label.sum() / 255\n",
    "        area = w * h\n",
    "        \n",
    "        label = label[y:y+h, x:x+w]\n",
    "        \n",
    "        dimensions.append((x, y, w, h, area, surface, label))\n",
    "        \n",
    "    return dimensions"
   ]
  },
  {
   "cell_type": "code",
   "execution_count": 18,
   "metadata": {},
   "outputs": [],
   "source": [
    "i = 1\n",
    "\n",
    "stats = []\n",
    "\n",
    "for file in glob.glob('images/*.png'):\n",
    "    _stats = simple_cleanup(file)\n",
    "    stats.extend(_stats)\n",
    "    \n",
    "    for crop in _stats:\n",
    "        cv2.imwrite('crop/%04d.png' % (i), crop[6])\n",
    "        i = i + 1"
   ]
  },
  {
   "cell_type": "markdown",
   "metadata": {},
   "source": [
    "## Reconhecimento "
   ]
  },
  {
   "cell_type": "code",
   "execution_count": 19,
   "metadata": {
    "collapsed": true
   },
   "outputs": [],
   "source": [
    "def histogram(points):\n",
    "    hist, bins = numpy.histogram(points, points.max() - points.min() + 1)\n",
    "    \n",
    "    plt.bar(bins[:-1], hist, width = 1)\n",
    "    plt.xlim(min(bins), max(bins))\n",
    "    plt.show()"
   ]
  },
  {
   "cell_type": "markdown",
   "metadata": {},
   "source": [
    "### Estatisticas"
   ]
  },
  {
   "cell_type": "code",
   "execution_count": 20,
   "metadata": {
    "collapsed": true
   },
   "outputs": [],
   "source": [
    "# arrays com todos os x iniciais\n",
    "xs = numpy.array([s[0] for s in stats])\n",
    "\n",
    "# arrays com todos os y iniciais\n",
    "ys = numpy.array([s[1] for s in stats])\n",
    "\n",
    "# arrays com todas as larguras\n",
    "widths = numpy.array([s[2] for s in stats])\n",
    "\n",
    "# arrays com todas as alturas\n",
    "heights = numpy.array([s[3] for s in stats])\n",
    "\n",
    "# array com as areas dos bounding boxes\n",
    "areas = numpy.array([s[4] for s in stats])\n",
    "\n",
    "# array com as quantidade de pixels de cada letra\n",
    "surfaces = numpy.array([s[5] for s in stats])"
   ]
  },
  {
   "cell_type": "code",
   "execution_count": 21,
   "metadata": {},
   "outputs": [
    {
     "data": {
      "image/png": "[encoded data removed]",
      "text/plain": [
       "<matplotlib.figure.Figure at 0x7eaecf8>"
      ]
     },
     "metadata": {},
     "output_type": "display_data"
    },
    {
     "data": {
      "text/plain": [
       "(44.0, 46.729960053262317, 38.922498635087706, 1, 140, 3755)"
      ]
     },
     "execution_count": 21,
     "metadata": {},
     "output_type": "execute_result"
    }
   ],
   "source": [
    "histogram(xs)\n",
    "numpy.median(xs), xs.mean(), xs.std(), xs.min(), xs.max(), xs.size"
   ]
  },
  {
   "cell_type": "code",
   "execution_count": 22,
   "metadata": {},
   "outputs": [
    {
     "data": {
      "image/png": "[encoded data removed]",
      "text/plain": [
       "<matplotlib.figure.Figure at 0xb0be2e8>"
      ]
     },
     "metadata": {},
     "output_type": "display_data"
    },
    {
     "data": {
      "text/plain": [
       "(10.0, 9.5744340878828229, 7.0724601511212164, 1, 42, 3755)"
      ]
     },
     "execution_count": 22,
     "metadata": {},
     "output_type": "execute_result"
    }
   ],
   "source": [
    "histogram(ys)\n",
    "numpy.median(ys), ys.mean(), ys.std(), ys.min(), ys.max(), ys.size"
   ]
  },
  {
   "cell_type": "code",
   "execution_count": 23,
   "metadata": {},
   "outputs": [
    {
     "data": {
      "image/png": "[encoded data removed]",
      "text/plain": [
       "<matplotlib.figure.Figure at 0xb562940>"
      ]
     },
     "metadata": {},
     "output_type": "display_data"
    },
    {
     "data": {
      "text/plain": [
       "(25.0, 32.020239680426101, 23.786928466169616, 3, 148, 3755)"
      ]
     },
     "execution_count": 23,
     "metadata": {},
     "output_type": "execute_result"
    }
   ],
   "source": [
    "histogram(widths)\n",
    "numpy.median(widths), widths.mean(), widths.std(), widths.min(), widths.max(), widths.size"
   ]
  },
  {
   "cell_type": "code",
   "execution_count": 24,
   "metadata": {},
   "outputs": [
    {
     "data": {
      "image/png": "[encoded data removed]",
      "text/plain": [
       "<matplotlib.figure.Figure at 0xb562dd8>"
      ]
     },
     "metadata": {},
     "output_type": "display_data"
    },
    {
     "data": {
      "text/plain": [
       "(28.0, 28.251398135818906, 9.6044912951472057, 3, 44, 3755)"
      ]
     },
     "execution_count": 24,
     "metadata": {},
     "output_type": "execute_result"
    }
   ],
   "source": [
    "histogram(heights)\n",
    "numpy.median(heights), heights.mean(),  heights.std(), heights.min(), heights.max(), heights.size"
   ]
  },
  {
   "cell_type": "code",
   "execution_count": 25,
   "metadata": {},
   "outputs": [
    {
     "data": {
      "image/png": "[encoded data removed]",
      "text/plain": [
       "<matplotlib.figure.Figure at 0xb074748>"
      ]
     },
     "metadata": {},
     "output_type": "display_data"
    },
    {
     "data": {
      "text/plain": [
       "(702.0, 1041.2902796271637, 1118.355745872612, 21, 6512, 3755)"
      ]
     },
     "execution_count": 25,
     "metadata": {},
     "output_type": "execute_result"
    }
   ],
   "source": [
    "histogram(areas)\n",
    "numpy.median(areas), areas.mean(), areas.std(), areas.min(), areas.max(), areas.size"
   ]
  },
  {
   "cell_type": "code",
   "execution_count": 26,
   "metadata": {},
   "outputs": [
    {
     "data": {
      "image/png": "[encoded data removed]",
      "text/plain": [
       "<matplotlib.figure.Figure at 0x8406ba8>"
      ]
     },
     "metadata": {},
     "output_type": "display_data"
    },
    {
     "data": {
      "text/plain": [
       "(258.0, 470.16884154460718, 710.06190517138862, 26, 4505, 3755)"
      ]
     },
     "execution_count": 26,
     "metadata": {},
     "output_type": "execute_result"
    }
   ],
   "source": [
    "histogram(surfaces)\n",
    "numpy.median(surfaces), surfaces.mean(),  surfaces.std(), surfaces.min(), surfaces.max(), surfaces.size"
   ]
  },
  {
   "cell_type": "markdown",
   "metadata": {},
   "source": [
    "### Encontrando outliers"
   ]
  },
  {
   "cell_type": "code",
   "execution_count": 27,
   "metadata": {
    "collapsed": true
   },
   "outputs": [],
   "source": [
    "def compute_outliers(data):\n",
    "    q1 = numpy.percentile(data, 25)\n",
    "    q2 = numpy.percentile(data, 50)\n",
    "    q3 = numpy.percentile(data, 75)\n",
    "    iqr = q3 - q1\n",
    "    \n",
    "    lower_bound = max(data.min(), q1 - (1.5 * iqr))\n",
    "    upper_bound = min(data.max(), q3 + (1.5 * iqr))\n",
    "    \n",
    "    return (q1, q2, q3, iqr, lower_bound, upper_bound)"
   ]
  },
  {
   "cell_type": "code",
   "execution_count": 28,
   "metadata": {},
   "outputs": [
    {
     "data": {
      "text/plain": [
       "(2.0, 44.0, 77.0, 75.0, 1, 140)"
      ]
     },
     "execution_count": 28,
     "metadata": {},
     "output_type": "execute_result"
    }
   ],
   "source": [
    "compute_outliers(xs)"
   ]
  },
  {
   "cell_type": "code",
   "execution_count": 29,
   "metadata": {},
   "outputs": [
    {
     "data": {
      "text/plain": [
       "(5.0, 10.0, 11.0, 6.0, 1, 20.0)"
      ]
     },
     "execution_count": 29,
     "metadata": {},
     "output_type": "execute_result"
    }
   ],
   "source": [
    "compute_outliers(ys)"
   ]
  },
  {
   "cell_type": "code",
   "execution_count": 30,
   "metadata": {},
   "outputs": [
    {
     "data": {
      "text/plain": [
       "(21.0, 25.0, 31.0, 10.0, 6.0, 46.0)"
      ]
     },
     "execution_count": 30,
     "metadata": {},
     "output_type": "execute_result"
    }
   ],
   "source": [
    "compute_outliers(widths)"
   ]
  },
  {
   "cell_type": "code",
   "execution_count": 31,
   "metadata": {},
   "outputs": [
    {
     "data": {
      "text/plain": [
       "(24.0, 28.0, 34.0, 10.0, 9.0, 44)"
      ]
     },
     "execution_count": 31,
     "metadata": {},
     "output_type": "execute_result"
    }
   ],
   "source": [
    "compute_outliers(heights)"
   ]
  },
  {
   "cell_type": "code",
   "execution_count": 32,
   "metadata": {},
   "outputs": [
    {
     "data": {
      "text/plain": [
       "(560.0, 702.0, 1050.0, 490.0, 21, 1785.0)"
      ]
     },
     "execution_count": 32,
     "metadata": {},
     "output_type": "execute_result"
    }
   ],
   "source": [
    "compute_outliers(areas)"
   ]
  },
  {
   "cell_type": "code",
   "execution_count": 33,
   "metadata": {},
   "outputs": [
    {
     "data": {
      "text/plain": [
       "(170.0, 258.0, 392.5, 222.5, 26, 726.25)"
      ]
     },
     "execution_count": 33,
     "metadata": {},
     "output_type": "execute_result"
    }
   ],
   "source": [
    "compute_outliers(surfaces)"
   ]
  },
  {
   "cell_type": "code",
   "execution_count": 34,
   "metadata": {},
   "outputs": [
    {
     "data": {
      "image/png": "[encoded data removed]",
      "text/plain": [
       "<matplotlib.figure.Figure at 0x185bada0>"
      ]
     },
     "metadata": {},
     "output_type": "display_data"
    }
   ],
   "source": [
    "_ = plt.boxplot(xs, vert=0)"
   ]
  },
  {
   "cell_type": "code",
   "execution_count": 35,
   "metadata": {},
   "outputs": [
    {
     "data": {
      "image/png": "[encoded data removed]",
      "text/plain": [
       "<matplotlib.figure.Figure at 0xaf09c18>"
      ]
     },
     "metadata": {},
     "output_type": "display_data"
    }
   ],
   "source": [
    "_ = plt.boxplot(ys, vert=0)"
   ]
  },
  {
   "cell_type": "code",
   "execution_count": 36,
   "metadata": {},
   "outputs": [
    {
     "data": {
      "image/png": "[encoded data removed]",
      "text/plain": [
       "<matplotlib.figure.Figure at 0x14798358>"
      ]
     },
     "metadata": {},
     "output_type": "display_data"
    }
   ],
   "source": [
    "_ = plt.boxplot(widths, vert=0)"
   ]
  },
  {
   "cell_type": "code",
   "execution_count": 37,
   "metadata": {},
   "outputs": [
    {
     "data": {
      "image/png": "[encoded data removed]",
      "text/plain": [
       "<matplotlib.figure.Figure at 0x15450940>"
      ]
     },
     "metadata": {},
     "output_type": "display_data"
    }
   ],
   "source": [
    "_ = plt.boxplot(heights, vert=0)"
   ]
  },
  {
   "cell_type": "code",
   "execution_count": 38,
   "metadata": {},
   "outputs": [
    {
     "data": {
      "image/png": "[encoded data removed]",
      "text/plain": [
       "<matplotlib.figure.Figure at 0x14af6fd0>"
      ]
     },
     "metadata": {},
     "output_type": "display_data"
    }
   ],
   "source": [
    "_ = plt.boxplot(areas, vert=0)"
   ]
  },
  {
   "cell_type": "code",
   "execution_count": 39,
   "metadata": {},
   "outputs": [
    {
     "data": {
      "image/png": "[encoded data removed]",
      "text/plain": [
       "<matplotlib.figure.Figure at 0x8b16da0>"
      ]
     },
     "metadata": {},
     "output_type": "display_data"
    }
   ],
   "source": [
    "_ = plt.boxplot(surfaces, vert=0)"
   ]
  },
  {
   "cell_type": "markdown",
   "metadata": {},
   "source": [
    "### Removendo outliers"
   ]
  },
  {
   "cell_type": "code",
   "execution_count": 40,
   "metadata": {
    "collapsed": true
   },
   "outputs": [],
   "source": [
    "filtered = stats\n",
    "filtered = [s for s in filtered if s[1] < 20 and s[2] > 6 and s[2] < 46 and s[3] > 9 and s[4] < 1785 and s[5] < 727]\n",
    "\n",
    "# arrays com todos os x iniciais\n",
    "xs = numpy.array([s[0] for s in filtered])\n",
    "\n",
    "# arrays com todos os y iniciais\n",
    "ys = numpy.array([s[1] for s in filtered])\n",
    "\n",
    "# arrays com todas as larguras\n",
    "widths = numpy.array([s[2] for s in filtered])\n",
    "\n",
    "# arrays com todas as alturas\n",
    "heights = numpy.array([s[3] for s in filtered])\n",
    "\n",
    "# array com as areas dos bounding boxes\n",
    "areas = numpy.array([s[4] for s in filtered])\n",
    "\n",
    "# array com as quantidade de pixels de cada letra\n",
    "surfaces = numpy.array([s[5] for s in filtered])"
   ]
  },
  {
   "cell_type": "code",
   "execution_count": 41,
   "metadata": {},
   "outputs": [
    {
     "data": {
      "image/png": "[encoded data removed]",
      "text/plain": [
       "<matplotlib.figure.Figure at 0x8060390>"
      ]
     },
     "metadata": {},
     "output_type": "display_data"
    },
    {
     "data": {
      "text/plain": [
       "(43.0, 42.233655274888555, 31.428803658707228, 1, 129, 2692)"
      ]
     },
     "execution_count": 41,
     "metadata": {},
     "output_type": "execute_result"
    }
   ],
   "source": [
    "histogram(xs)\n",
    "numpy.median(xs), xs.mean(), xs.std(), xs.min(), xs.max(), xs.size"
   ]
  },
  {
   "cell_type": "code",
   "execution_count": 42,
   "metadata": {},
   "outputs": [
    {
     "data": {
      "image/png": "[encoded data removed]",
      "text/plain": [
       "<matplotlib.figure.Figure at 0x14b2bd68>"
      ]
     },
     "metadata": {},
     "output_type": "display_data"
    },
    {
     "data": {
      "text/plain": [
       "(10.0, 10.080980683506686, 4.1753160147235162, 1, 19, 2692)"
      ]
     },
     "execution_count": 42,
     "metadata": {},
     "output_type": "execute_result"
    }
   ],
   "source": [
    "histogram(ys)\n",
    "numpy.median(ys), ys.mean(), ys.std(), ys.min(), ys.max(), ys.size"
   ]
  },
  {
   "cell_type": "code",
   "execution_count": 43,
   "metadata": {},
   "outputs": [
    {
     "data": {
      "image/png": "[encoded data removed]",
      "text/plain": [
       "<matplotlib.figure.Figure at 0x154a67f0>"
      ]
     },
     "metadata": {},
     "output_type": "display_data"
    },
    {
     "data": {
      "text/plain": [
       "(25.0, 25.680163447251115, 5.6914086581572061, 8, 45, 2692)"
      ]
     },
     "execution_count": 43,
     "metadata": {},
     "output_type": "execute_result"
    }
   ],
   "source": [
    "histogram(widths)\n",
    "numpy.median(widths), widths.mean(), widths.std(), widths.min(), widths.max(), widths.size"
   ]
  },
  {
   "cell_type": "code",
   "execution_count": 44,
   "metadata": {},
   "outputs": [
    {
     "data": {
      "image/png": "[encoded data removed]",
      "text/plain": [
       "<matplotlib.figure.Figure at 0x14e2f978>"
      ]
     },
     "metadata": {},
     "output_type": "display_data"
    },
    {
     "data": {
      "text/plain": [
       "(28.0, 28.177934621099553, 4.7951254237304974, 10, 44, 2692)"
      ]
     },
     "execution_count": 44,
     "metadata": {},
     "output_type": "execute_result"
    }
   ],
   "source": [
    "histogram(heights)\n",
    "numpy.median(heights), heights.mean(),  heights.std(), heights.min(), heights.max(), heights.size"
   ]
  },
  {
   "cell_type": "code",
   "execution_count": 45,
   "metadata": {},
   "outputs": [
    {
     "data": {
      "image/png": "[encoded data removed]",
      "text/plain": [
       "<matplotlib.figure.Figure at 0x80afb00>"
      ]
     },
     "metadata": {},
     "output_type": "display_data"
    },
    {
     "data": {
      "text/plain": [
       "(675.0, 732.09732540861808, 236.9660593034192, 80, 1716, 2692)"
      ]
     },
     "execution_count": 45,
     "metadata": {},
     "output_type": "execute_result"
    }
   ],
   "source": [
    "histogram(areas)\n",
    "numpy.median(areas), areas.mean(), areas.std(), areas.min(), areas.max(), areas.size"
   ]
  },
  {
   "cell_type": "code",
   "execution_count": 46,
   "metadata": {},
   "outputs": [
    {
     "data": {
      "image/png": "[encoded data removed]",
      "text/plain": [
       "<matplotlib.figure.Figure at 0x10cf75c0>"
      ]
     },
     "metadata": {},
     "output_type": "display_data"
    },
    {
     "data": {
      "text/plain": [
       "(243.0, 261.81872213967313, 102.91941974200624, 36, 721, 2692)"
      ]
     },
     "execution_count": 46,
     "metadata": {},
     "output_type": "execute_result"
    }
   ],
   "source": [
    "histogram(surfaces)\n",
    "numpy.median(surfaces), surfaces.mean(),  surfaces.std(), surfaces.min(), surfaces.max(), surfaces.size"
   ]
  },
  {
   "cell_type": "markdown",
   "metadata": {},
   "source": [
    "### Normalizacao dos Recortes"
   ]
  },
  {
   "cell_type": "code",
   "execution_count": 47,
   "metadata": {
    "collapsed": true
   },
   "outputs": [],
   "source": [
    "def normalize(image):\n",
    "    (h, w) = image.shape\n",
    "    fx = w / 64.0\n",
    "    fy = h / 64.0\n",
    "    \n",
    "    f = max(fx, fy)\n",
    "  \n",
    "    w_ = int(w / f)\n",
    "    h_ = int(h / f)\n",
    "    \n",
    "    resized = cv2.resize(image, (w_, h_))\n",
    "    \n",
    "    box = numpy.zeros((64, 64), dtype=numpy.uint8)\n",
    "    \n",
    "    x0  = (64 - w_) / 2\n",
    "    y0  = (64 - h_) / 2\n",
    "        \n",
    "    box[y0:y0 + h_, x0:x0 + w_] = resized\n",
    "    \n",
    "    return box"
   ]
  },
  {
   "cell_type": "code",
   "execution_count": 48,
   "metadata": {},
   "outputs": [],
   "source": [
    "normalized = [(normalize(s[6]), s[6]) for s in filtered]"
   ]
  },
  {
   "cell_type": "code",
   "execution_count": 49,
   "metadata": {},
   "outputs": [],
   "source": [
    "normalized = sorted(normalized, key=lambda x: x[0].sum())"
   ]
  },
  {
   "cell_type": "markdown",
   "metadata": {},
   "source": [
    "### Agrupamento"
   ]
  },
  {
   "cell_type": "code",
   "execution_count": 50,
   "metadata": {},
   "outputs": [],
   "source": [
    "def mse(image, image2):\n",
    "    error = numpy.sum(((image.astype(numpy.float) - image2.astype(numpy.float))/255.0) ** 2)\n",
    "    error /= float(image.shape[0] * image.shape[1])\n",
    "    \n",
    "    return error"
   ]
  },
  {
   "cell_type": "code",
   "execution_count": 51,
   "metadata": {},
   "outputs": [],
   "source": [
    "def group(limiar, normalized):\n",
    "    groups = collections.defaultdict(list)\n",
    "    computed = set()\n",
    "\n",
    "    for (i, images) in enumerate(normalized):\n",
    "        if i in computed:\n",
    "            continue\n",
    "\n",
    "        found = False\n",
    "\n",
    "        for (j, images2) in enumerate(normalized):\n",
    "\n",
    "            if i >= j or j in computed:\n",
    "                continue\n",
    "\n",
    "            dist = mse(images[0], images2[0])\n",
    "\n",
    "            if dist < limiar:\n",
    "                groups[i].append(j)\n",
    "                found = True\n",
    "                computed.add(j)\n",
    "\n",
    "        if not found:\n",
    "            groups[i].append(i)\n",
    "            \n",
    "    return groups"
   ]
  },
  {
   "cell_type": "code",
   "execution_count": 52,
   "metadata": {},
   "outputs": [],
   "source": [
    "groups = group(0.05, normalized)"
   ]
  },
  {
   "cell_type": "code",
   "execution_count": 53,
   "metadata": {
    "collapsed": true
   },
   "outputs": [],
   "source": [
    "groups6 = group(0.06, normalized)"
   ]
  },
  {
   "cell_type": "code",
   "execution_count": 54,
   "metadata": {
    "collapsed": true
   },
   "outputs": [],
   "source": [
    "groups7 = group(0.07, normalized)"
   ]
  },
  {
   "cell_type": "code",
   "execution_count": 55,
   "metadata": {
    "collapsed": true
   },
   "outputs": [],
   "source": [
    "groups8 = group(0.08, normalized)"
   ]
  },
  {
   "cell_type": "code",
   "execution_count": 56,
   "metadata": {
    "collapsed": true
   },
   "outputs": [],
   "source": [
    "groups9 = group(0.09, normalized)"
   ]
  },
  {
   "cell_type": "code",
   "execution_count": 57,
   "metadata": {
    "collapsed": true
   },
   "outputs": [],
   "source": [
    "groups10 = group(0.1, normalized)"
   ]
  },
  {
   "cell_type": "code",
   "execution_count": 58,
   "metadata": {
    "collapsed": true
   },
   "outputs": [],
   "source": [
    "groups15 = group(0.15, normalized)"
   ]
  },
  {
   "cell_type": "markdown",
   "metadata": {},
   "source": [
    "### Salva os grupos"
   ]
  },
  {
   "cell_type": "code",
   "execution_count": 59,
   "metadata": {},
   "outputs": [],
   "source": [
    "def save(directory, groups, normalized):\n",
    "    for i in groups.keys():\n",
    "        if len(groups[i]) < 3:\n",
    "            continue\n",
    "\n",
    "        subdirectory = os.path.join(directory, '%04d' % (i))\n",
    "        \n",
    "        if not os.path.isdir(subdirectory):\n",
    "            os.makedirs(subdirectory)\n",
    "\n",
    "        file = os.path.join(subdirectory, '%04d.png' % (i))\n",
    "        cv2.imwrite(file, normalized[i][0])\n",
    "\n",
    "        \n",
    "        file = os.path.join(subdirectory, '%04d_original.png' % (i))\n",
    "        cv2.imwrite(file, normalized[i][1])\n",
    "        \n",
    "        for j in groups[i]:\n",
    "            dist = mse(normalized[i][0], normalized[j][0])\n",
    "            \n",
    "            file = os.path.join(subdirectory, '%04d_%0.3f.png' % (j, dist))\n",
    "            cv2.imwrite(file, normalized[j][0])\n",
    "            \n",
    "            file = os.path.join(subdirectory, '%04d_%0.3f_original.png' % (j, dist))\n",
    "            cv2.imwrite(file, normalized[j][1])"
   ]
  },
  {
   "cell_type": "code",
   "execution_count": 60,
   "metadata": {},
   "outputs": [],
   "source": [
    "save('groups10', groups10, normalized)"
   ]
  },
  {
   "cell_type": "markdown",
   "metadata": {},
   "source": [
    "### Carrega os templates "
   ]
  },
  {
   "cell_type": "code",
   "execution_count": 61,
   "metadata": {
    "collapsed": true
   },
   "outputs": [],
   "source": [
    "def load_templates(directory):\n",
    "    pattern = os.path.join(directory, '*', '*_original.png')\n",
    "    images = glob.glob(pattern)\n",
    "    \n",
    "    templates = collections.defaultdict(list)\n",
    "    \n",
    "    for image in images:\n",
    "        if '0.' in image:\n",
    "            continue\n",
    "            \n",
    "        letter = os.path.basename(os.path.dirname(image))\n",
    "        \n",
    "        # carrega a imagem, como o opencv carrega PNG como\n",
    "        # RGB, tem q transformar para tons de cinza\n",
    "        template = cv2.imread(image)\n",
    "        template = cv2.cvtColor(template, cv2.COLOR_RGB2GRAY)\n",
    "        \n",
    "        templates[letter].append(template)\n",
    "        \n",
    "    return templates"
   ]
  },
  {
   "cell_type": "code",
   "execution_count": 62,
   "metadata": {
    "collapsed": true
   },
   "outputs": [],
   "source": [
    "templates = load_templates('templates/')"
   ]
  },
  {
   "cell_type": "markdown",
   "metadata": {},
   "source": [
    "### Quebra o captcha"
   ]
  },
  {
   "cell_type": "code",
   "execution_count": 63,
   "metadata": {},
   "outputs": [],
   "source": [
    "def search_for_letter(image, letter, templates, method):\n",
    "    best = 2 ** 32\n",
    "    \n",
    "    if method not in [cv2.TM_SQDIFF, cv2.TM_SQDIFF_NORMED]:\n",
    "        best = 0.0\n",
    "        \n",
    "    pos  = None\n",
    "\n",
    "    for template in templates:\n",
    "        match = cv2.matchTemplate(image, template, method)\n",
    "        minVal,maxVal,minLoc,maxLoc = cv2.minMaxLoc(match)\n",
    "\n",
    "        if method not in [cv2.TM_SQDIFF, cv2.TM_SQDIFF_NORMED]:\n",
    "                \n",
    "            if best < maxVal:\n",
    "                pos = {\n",
    "                    'error': maxVal,\n",
    "                    'location': maxLoc,\n",
    "                    'letter': letter\n",
    "                }\n",
    "                best = maxVal\n",
    "        else:\n",
    "            \n",
    "            if best > minVal:\n",
    "                pos = {\n",
    "                    'error': minVal,\n",
    "                    'location': minLoc,\n",
    "                    'letter': letter\n",
    "                }\n",
    "                \n",
    "                best = minVal\n",
    "\n",
    "    return pos\n",
    "    \n",
    "def search(file, templates, method):\n",
    "    matches = []\n",
    "\n",
    "    image = cut_and_binarize(file)\n",
    "\n",
    "    for letter in templates:\n",
    "        pos = search_for_letter(image, letter, templates[letter], method)\n",
    "        \n",
    "        if pos is not None:\n",
    "            matches.append(pos)\n",
    "\n",
    "    reverse = False\n",
    "    \n",
    "    if method not in [cv2.TM_SQDIFF, cv2.TM_SQDIFF_NORMED]:\n",
    "        reverse = True\n",
    "        \n",
    "    matches = sorted(matches, key=lambda x:x['error'],reverse=reverse)\n",
    "    return sorted(matches[:4], key=lambda x:x['location'][0])"
   ]
  },
  {
   "cell_type": "markdown",
   "metadata": {},
   "source": [
    "### Validacao do trabalho"
   ]
  },
  {
   "cell_type": "code",
   "execution_count": 64,
   "metadata": {},
   "outputs": [],
   "source": [
    "def validation(directory, templates, method):\n",
    "    captchas = glob.glob(directory + '/*.png')\n",
    "    \n",
    "    corrects = 0\n",
    "    found    = 0\n",
    "    \n",
    "    for file in captchas:\n",
    "        # tenta quebrar o captcha\n",
    "        matches = search(file, templates, method)\n",
    "        letters = [match['letter'] for match in matches]\n",
    "        \n",
    "        # testa se o captcha casa com o nome do arquivo\n",
    "        filename = os.path.basename(file)\n",
    "        captcha  = filename.replace('.png', '')\n",
    "        captcha  = captcha.upper()\n",
    "\n",
    "        correct = 0\n",
    "        \n",
    "        for letter in letters:\n",
    "            if letter in captcha:\n",
    "                correct += 1\n",
    "\n",
    "        if correct == 4:\n",
    "            found += 1\n",
    "            \n",
    "        corrects += correct\n",
    "        \n",
    "    print \"Letters:\", corrects, \"from\", (4 * len(captchas)), \"(\", corrects / (0.04 * len(captchas)), \"%)\"\n",
    "    print \"Captchas:\", found, \"from\", len(captchas), \"(\", found / (0.01 * len(captchas)), \"%)\""
   ]
  },
  {
   "cell_type": "code",
   "execution_count": 65,
   "metadata": {},
   "outputs": [
    {
     "name": "stdout",
     "output_type": "stream",
     "text": [
      "0\n",
      "Letters: 350 from 400 ( 87.5 %)\n",
      "Captchas: 64 from 100 ( 64.0 %)\n",
      "1\n",
      "Letters: 378 from 400 ( 94.5 %)\n",
      "Captchas: 81 from 100 ( 81.0 %)\n",
      "2\n",
      "Letters: 140 from 400 ( 35.0 %)\n",
      "Captchas: 1 from 100 ( 1.0 %)\n",
      "3\n",
      "Letters: 381 from 400 ( 95.25 %)\n",
      "Captchas: 82 from 100 ( 82.0 %)\n",
      "4\n",
      "Letters: 324 from 400 ( 81.0 %)\n",
      "Captchas: 39 from 100 ( 39.0 %)\n",
      "5\n",
      "Letters: 384 from 400 ( 96.0 %)\n",
      "Captchas: 84 from 100 ( 84.0 %)\n"
     ]
    }
   ],
   "source": [
    "for method in [cv2.TM_SQDIFF, cv2.TM_SQDIFF_NORMED, cv2.TM_CCORR, cv2.TM_CCORR_NORMED, cv2.TM_CCOEFF, cv2.TM_CCOEFF_NORMED]:\n",
    "    print method\n",
    "    validation('teste/', templates, method)"
   ]
  },
  {
   "cell_type": "code",
   "execution_count": null,
   "metadata": {
    "collapsed": true
   },
   "outputs": [],
   "source": []
  }
 ],
 "metadata": {
  "kernelspec": {
   "display_name": "Python 3",
   "language": "python",
   "name": "python3"
  },
  "language_info": {
   "codemirror_mode": {
    "name": "ipython",
    "version": 3
   },
   "file_extension": ".py",
   "mimetype": "text/x-python",
   "name": "python",
   "nbconvert_exporter": "python",
   "pygments_lexer": "ipython3",
   "version": "3.7.3"
  }
 },
 "nbformat": 4,
 "nbformat_minor": 1
}
